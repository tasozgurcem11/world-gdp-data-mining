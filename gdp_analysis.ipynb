{
 "cells": [
  {
   "cell_type": "code",
   "execution_count": 2,
   "metadata": {
    "collapsed": true
   },
   "outputs": [],
   "source": [
    "import  pandas as pd\n",
    "import numpy as np\n",
    "import seaborn as sns\n",
    "import matplotlib.pyplot as plt\n",
    "import os"
   ]
  },
  {
   "cell_type": "code",
   "execution_count": 18,
   "outputs": [],
   "source": [
    "gdp = pd.read_csv('./data/gdp.csv')\n",
    "gdp_growth = pd.read_csv('./data/gdp_growth.csv')\n",
    "gdp_per_capita = pd.read_csv('./data/gdp_per_capita.csv')\n",
    "gdp_per_capita_growth = pd.read_csv('./data/gdp_per_capita_growth.csv')"
   ],
   "metadata": {
    "collapsed": false,
    "pycharm": {
     "name": "#%%\n"
    }
   }
  },
  {
   "cell_type": "code",
   "execution_count": 19,
   "outputs": [
    {
     "data": {
      "text/plain": "                  Country Name Country Code     Indicator Name  \\\n0                        Aruba          ABW  GDP (current US$)   \n1  Africa Eastern and Southern          AFE  GDP (current US$)   \n2                  Afghanistan          AFG  GDP (current US$)   \n3   Africa Western and Central          AFW  GDP (current US$)   \n4                       Angola          AGO  GDP (current US$)   \n\n   Indicator Code          1960          1961          1962          1963  \\\n0  NY.GDP.MKTP.CD           NaN           NaN           NaN           NaN   \n1  NY.GDP.MKTP.CD  1.931311e+10  1.972349e+10  2.149392e+10  2.573321e+10   \n2  NY.GDP.MKTP.CD  5.377778e+08  5.488889e+08  5.466667e+08  7.511112e+08   \n3  NY.GDP.MKTP.CD  1.040428e+10  1.112805e+10  1.194335e+10  1.267652e+10   \n4  NY.GDP.MKTP.CD           NaN           NaN           NaN           NaN   \n\n           1964          1965  ...          2012          2013          2014  \\\n0           NaN           NaN  ...  2.534637e+09  2.727850e+09  2.790849e+09   \n1  2.352744e+10  2.681057e+10  ...  9.505214e+11  9.642424e+11  9.848071e+11   \n2  8.000000e+08  1.006667e+09  ...  1.990732e+10  2.014640e+10  2.049713e+10   \n3  1.383858e+10  1.486247e+10  ...  7.275714e+11  8.207876e+11  8.649666e+11   \n4           NaN           NaN  ...  1.280529e+11  1.367099e+11  1.457122e+11   \n\n           2015          2016          2017          2018          2019  \\\n0  2.962905e+09  2.983637e+09  3.092430e+09  3.202189e+09           NaN   \n1  9.199300e+11  8.733549e+11  9.853557e+11  1.012853e+12  1.009910e+12   \n2  1.913421e+10  1.811656e+10  1.875347e+10  1.805323e+10  1.879945e+10   \n3  7.607297e+11  6.905430e+11  6.837416e+11  7.416916e+11  7.945725e+11   \n4  1.161936e+11  1.011239e+11  1.221238e+11  1.013532e+11  8.941719e+10   \n\n           2020  Unnamed: 65  \n0           NaN          NaN  \n1  9.207923e+11          NaN  \n2  2.011614e+10          NaN  \n3  7.845876e+11          NaN  \n4  5.837598e+10          NaN  \n\n[5 rows x 66 columns]",
      "text/html": "<div>\n<style scoped>\n    .dataframe tbody tr th:only-of-type {\n        vertical-align: middle;\n    }\n\n    .dataframe tbody tr th {\n        vertical-align: top;\n    }\n\n    .dataframe thead th {\n        text-align: right;\n    }\n</style>\n<table border=\"1\" class=\"dataframe\">\n  <thead>\n    <tr style=\"text-align: right;\">\n      <th></th>\n      <th>Country Name</th>\n      <th>Country Code</th>\n      <th>Indicator Name</th>\n      <th>Indicator Code</th>\n      <th>1960</th>\n      <th>1961</th>\n      <th>1962</th>\n      <th>1963</th>\n      <th>1964</th>\n      <th>1965</th>\n      <th>...</th>\n      <th>2012</th>\n      <th>2013</th>\n      <th>2014</th>\n      <th>2015</th>\n      <th>2016</th>\n      <th>2017</th>\n      <th>2018</th>\n      <th>2019</th>\n      <th>2020</th>\n      <th>Unnamed: 65</th>\n    </tr>\n  </thead>\n  <tbody>\n    <tr>\n      <th>0</th>\n      <td>Aruba</td>\n      <td>ABW</td>\n      <td>GDP (current US$)</td>\n      <td>NY.GDP.MKTP.CD</td>\n      <td>NaN</td>\n      <td>NaN</td>\n      <td>NaN</td>\n      <td>NaN</td>\n      <td>NaN</td>\n      <td>NaN</td>\n      <td>...</td>\n      <td>2.534637e+09</td>\n      <td>2.727850e+09</td>\n      <td>2.790849e+09</td>\n      <td>2.962905e+09</td>\n      <td>2.983637e+09</td>\n      <td>3.092430e+09</td>\n      <td>3.202189e+09</td>\n      <td>NaN</td>\n      <td>NaN</td>\n      <td>NaN</td>\n    </tr>\n    <tr>\n      <th>1</th>\n      <td>Africa Eastern and Southern</td>\n      <td>AFE</td>\n      <td>GDP (current US$)</td>\n      <td>NY.GDP.MKTP.CD</td>\n      <td>1.931311e+10</td>\n      <td>1.972349e+10</td>\n      <td>2.149392e+10</td>\n      <td>2.573321e+10</td>\n      <td>2.352744e+10</td>\n      <td>2.681057e+10</td>\n      <td>...</td>\n      <td>9.505214e+11</td>\n      <td>9.642424e+11</td>\n      <td>9.848071e+11</td>\n      <td>9.199300e+11</td>\n      <td>8.733549e+11</td>\n      <td>9.853557e+11</td>\n      <td>1.012853e+12</td>\n      <td>1.009910e+12</td>\n      <td>9.207923e+11</td>\n      <td>NaN</td>\n    </tr>\n    <tr>\n      <th>2</th>\n      <td>Afghanistan</td>\n      <td>AFG</td>\n      <td>GDP (current US$)</td>\n      <td>NY.GDP.MKTP.CD</td>\n      <td>5.377778e+08</td>\n      <td>5.488889e+08</td>\n      <td>5.466667e+08</td>\n      <td>7.511112e+08</td>\n      <td>8.000000e+08</td>\n      <td>1.006667e+09</td>\n      <td>...</td>\n      <td>1.990732e+10</td>\n      <td>2.014640e+10</td>\n      <td>2.049713e+10</td>\n      <td>1.913421e+10</td>\n      <td>1.811656e+10</td>\n      <td>1.875347e+10</td>\n      <td>1.805323e+10</td>\n      <td>1.879945e+10</td>\n      <td>2.011614e+10</td>\n      <td>NaN</td>\n    </tr>\n    <tr>\n      <th>3</th>\n      <td>Africa Western and Central</td>\n      <td>AFW</td>\n      <td>GDP (current US$)</td>\n      <td>NY.GDP.MKTP.CD</td>\n      <td>1.040428e+10</td>\n      <td>1.112805e+10</td>\n      <td>1.194335e+10</td>\n      <td>1.267652e+10</td>\n      <td>1.383858e+10</td>\n      <td>1.486247e+10</td>\n      <td>...</td>\n      <td>7.275714e+11</td>\n      <td>8.207876e+11</td>\n      <td>8.649666e+11</td>\n      <td>7.607297e+11</td>\n      <td>6.905430e+11</td>\n      <td>6.837416e+11</td>\n      <td>7.416916e+11</td>\n      <td>7.945725e+11</td>\n      <td>7.845876e+11</td>\n      <td>NaN</td>\n    </tr>\n    <tr>\n      <th>4</th>\n      <td>Angola</td>\n      <td>AGO</td>\n      <td>GDP (current US$)</td>\n      <td>NY.GDP.MKTP.CD</td>\n      <td>NaN</td>\n      <td>NaN</td>\n      <td>NaN</td>\n      <td>NaN</td>\n      <td>NaN</td>\n      <td>NaN</td>\n      <td>...</td>\n      <td>1.280529e+11</td>\n      <td>1.367099e+11</td>\n      <td>1.457122e+11</td>\n      <td>1.161936e+11</td>\n      <td>1.011239e+11</td>\n      <td>1.221238e+11</td>\n      <td>1.013532e+11</td>\n      <td>8.941719e+10</td>\n      <td>5.837598e+10</td>\n      <td>NaN</td>\n    </tr>\n  </tbody>\n</table>\n<p>5 rows × 66 columns</p>\n</div>"
     },
     "execution_count": 19,
     "metadata": {},
     "output_type": "execute_result"
    }
   ],
   "source": [
    "gdp.head()"
   ],
   "metadata": {
    "collapsed": false,
    "pycharm": {
     "name": "#%%\n"
    }
   }
  },
  {
   "cell_type": "code",
   "execution_count": 20,
   "outputs": [
    {
     "data": {
      "text/plain": "                  Country Name Country Code         Indicator Name  \\\n0                        Aruba          ABW  GDP growth (annual %)   \n1  Africa Eastern and Southern          AFE  GDP growth (annual %)   \n2                  Afghanistan          AFG  GDP growth (annual %)   \n3   Africa Western and Central          AFW  GDP growth (annual %)   \n4                       Angola          AGO  GDP growth (annual %)   \n\n      Indicator Code  1960      1961      1962      1963      1964      1965  \\\n0  NY.GDP.MKTP.KD.ZG   NaN       NaN       NaN       NaN       NaN       NaN   \n1  NY.GDP.MKTP.KD.ZG   NaN       NaN       NaN       NaN       NaN       NaN   \n2  NY.GDP.MKTP.KD.ZG   NaN       NaN       NaN       NaN       NaN       NaN   \n3  NY.GDP.MKTP.KD.ZG   NaN  1.848719  3.770212  7.272501  5.396356  4.049794   \n4  NY.GDP.MKTP.KD.ZG   NaN       NaN       NaN       NaN       NaN       NaN   \n\n   ...       2012      2013      2014      2015      2016      2017      2018  \\\n0  ...  -1.369863  4.198232  0.300000  5.700001  2.100000  1.999999       NaN   \n1  ...   1.972652  4.308370  3.986754  2.925591  2.019391  2.542298  2.475272   \n2  ...  12.752287  5.600745  2.724543  1.451315  2.260314  2.647003  1.189228   \n3  ...   5.142964  6.104241  5.927350  2.745937  0.127595  2.318042  2.952230   \n4  ...   8.542188  4.954545  4.822628  0.943572 -2.580050 -0.147213 -2.003630   \n\n       2019      2020  Unnamed: 65  \n0       NaN       NaN          NaN  \n1  2.077898 -2.939186          NaN  \n2  3.911603 -2.351101          NaN  \n3  3.190336 -0.884981          NaN  \n4 -0.624644 -5.399987          NaN  \n\n[5 rows x 66 columns]",
      "text/html": "<div>\n<style scoped>\n    .dataframe tbody tr th:only-of-type {\n        vertical-align: middle;\n    }\n\n    .dataframe tbody tr th {\n        vertical-align: top;\n    }\n\n    .dataframe thead th {\n        text-align: right;\n    }\n</style>\n<table border=\"1\" class=\"dataframe\">\n  <thead>\n    <tr style=\"text-align: right;\">\n      <th></th>\n      <th>Country Name</th>\n      <th>Country Code</th>\n      <th>Indicator Name</th>\n      <th>Indicator Code</th>\n      <th>1960</th>\n      <th>1961</th>\n      <th>1962</th>\n      <th>1963</th>\n      <th>1964</th>\n      <th>1965</th>\n      <th>...</th>\n      <th>2012</th>\n      <th>2013</th>\n      <th>2014</th>\n      <th>2015</th>\n      <th>2016</th>\n      <th>2017</th>\n      <th>2018</th>\n      <th>2019</th>\n      <th>2020</th>\n      <th>Unnamed: 65</th>\n    </tr>\n  </thead>\n  <tbody>\n    <tr>\n      <th>0</th>\n      <td>Aruba</td>\n      <td>ABW</td>\n      <td>GDP growth (annual %)</td>\n      <td>NY.GDP.MKTP.KD.ZG</td>\n      <td>NaN</td>\n      <td>NaN</td>\n      <td>NaN</td>\n      <td>NaN</td>\n      <td>NaN</td>\n      <td>NaN</td>\n      <td>...</td>\n      <td>-1.369863</td>\n      <td>4.198232</td>\n      <td>0.300000</td>\n      <td>5.700001</td>\n      <td>2.100000</td>\n      <td>1.999999</td>\n      <td>NaN</td>\n      <td>NaN</td>\n      <td>NaN</td>\n      <td>NaN</td>\n    </tr>\n    <tr>\n      <th>1</th>\n      <td>Africa Eastern and Southern</td>\n      <td>AFE</td>\n      <td>GDP growth (annual %)</td>\n      <td>NY.GDP.MKTP.KD.ZG</td>\n      <td>NaN</td>\n      <td>NaN</td>\n      <td>NaN</td>\n      <td>NaN</td>\n      <td>NaN</td>\n      <td>NaN</td>\n      <td>...</td>\n      <td>1.972652</td>\n      <td>4.308370</td>\n      <td>3.986754</td>\n      <td>2.925591</td>\n      <td>2.019391</td>\n      <td>2.542298</td>\n      <td>2.475272</td>\n      <td>2.077898</td>\n      <td>-2.939186</td>\n      <td>NaN</td>\n    </tr>\n    <tr>\n      <th>2</th>\n      <td>Afghanistan</td>\n      <td>AFG</td>\n      <td>GDP growth (annual %)</td>\n      <td>NY.GDP.MKTP.KD.ZG</td>\n      <td>NaN</td>\n      <td>NaN</td>\n      <td>NaN</td>\n      <td>NaN</td>\n      <td>NaN</td>\n      <td>NaN</td>\n      <td>...</td>\n      <td>12.752287</td>\n      <td>5.600745</td>\n      <td>2.724543</td>\n      <td>1.451315</td>\n      <td>2.260314</td>\n      <td>2.647003</td>\n      <td>1.189228</td>\n      <td>3.911603</td>\n      <td>-2.351101</td>\n      <td>NaN</td>\n    </tr>\n    <tr>\n      <th>3</th>\n      <td>Africa Western and Central</td>\n      <td>AFW</td>\n      <td>GDP growth (annual %)</td>\n      <td>NY.GDP.MKTP.KD.ZG</td>\n      <td>NaN</td>\n      <td>1.848719</td>\n      <td>3.770212</td>\n      <td>7.272501</td>\n      <td>5.396356</td>\n      <td>4.049794</td>\n      <td>...</td>\n      <td>5.142964</td>\n      <td>6.104241</td>\n      <td>5.927350</td>\n      <td>2.745937</td>\n      <td>0.127595</td>\n      <td>2.318042</td>\n      <td>2.952230</td>\n      <td>3.190336</td>\n      <td>-0.884981</td>\n      <td>NaN</td>\n    </tr>\n    <tr>\n      <th>4</th>\n      <td>Angola</td>\n      <td>AGO</td>\n      <td>GDP growth (annual %)</td>\n      <td>NY.GDP.MKTP.KD.ZG</td>\n      <td>NaN</td>\n      <td>NaN</td>\n      <td>NaN</td>\n      <td>NaN</td>\n      <td>NaN</td>\n      <td>NaN</td>\n      <td>...</td>\n      <td>8.542188</td>\n      <td>4.954545</td>\n      <td>4.822628</td>\n      <td>0.943572</td>\n      <td>-2.580050</td>\n      <td>-0.147213</td>\n      <td>-2.003630</td>\n      <td>-0.624644</td>\n      <td>-5.399987</td>\n      <td>NaN</td>\n    </tr>\n  </tbody>\n</table>\n<p>5 rows × 66 columns</p>\n</div>"
     },
     "execution_count": 20,
     "metadata": {},
     "output_type": "execute_result"
    }
   ],
   "source": [
    "gdp_growth.head()"
   ],
   "metadata": {
    "collapsed": false,
    "pycharm": {
     "name": "#%%\n"
    }
   }
  },
  {
   "cell_type": "code",
   "execution_count": 16,
   "outputs": [
    {
     "data": {
      "text/plain": "                  Country Name Country Code                Indicator Name  \\\n0                        Aruba          ABW  GDP per capita (current US$)   \n1  Africa Eastern and Southern          AFE  GDP per capita (current US$)   \n2                  Afghanistan          AFG  GDP per capita (current US$)   \n3   Africa Western and Central          AFW  GDP per capita (current US$)   \n4                       Angola          AGO  GDP per capita (current US$)   \n\n   Indicator Code        1960        1961        1962        1963        1964  \\\n0  NY.GDP.PCAP.CD         NaN         NaN         NaN         NaN         NaN   \n1  NY.GDP.PCAP.CD  147.612227  147.014904  156.189192  182.243917  162.347592   \n2  NY.GDP.PCAP.CD   59.773234   59.860900   58.458009   78.706429   82.095307   \n3  NY.GDP.PCAP.CD  107.932233  113.081647  118.831107  123.442888  131.854402   \n4  NY.GDP.PCAP.CD         NaN         NaN         NaN         NaN         NaN   \n\n         1965  ...          2012          2013          2014          2015  \\\n0         NaN  ...  24712.493263  26441.619936  26893.011506  28396.908423   \n1  180.214908  ...   1736.166560   1713.899299   1703.596298   1549.037940   \n2  101.108325  ...    638.845852    624.315455    614.223342    556.007221   \n3  138.526332  ...   1965.118485   2157.481149   2212.853135   1894.310195   \n4         NaN  ...   5100.097027   5254.881126   5408.411700   4166.979833   \n\n           2016          2017          2018         2019         2020  \\\n0  28452.170615  29350.805019  30253.279358          NaN          NaN   \n1   1431.778723   1573.063386   1574.978648  1530.059177  1359.618224   \n2    512.012778    516.679862    485.668419   494.179350   516.747871   \n3   1673.835527   1613.473553   1704.139603  1777.918672  1710.073363   \n4   3506.073128   4095.810057   3289.643995  2809.626088  1776.166868   \n\n   Unnamed: 65  \n0          NaN  \n1          NaN  \n2          NaN  \n3          NaN  \n4          NaN  \n\n[5 rows x 66 columns]",
      "text/html": "<div>\n<style scoped>\n    .dataframe tbody tr th:only-of-type {\n        vertical-align: middle;\n    }\n\n    .dataframe tbody tr th {\n        vertical-align: top;\n    }\n\n    .dataframe thead th {\n        text-align: right;\n    }\n</style>\n<table border=\"1\" class=\"dataframe\">\n  <thead>\n    <tr style=\"text-align: right;\">\n      <th></th>\n      <th>Country Name</th>\n      <th>Country Code</th>\n      <th>Indicator Name</th>\n      <th>Indicator Code</th>\n      <th>1960</th>\n      <th>1961</th>\n      <th>1962</th>\n      <th>1963</th>\n      <th>1964</th>\n      <th>1965</th>\n      <th>...</th>\n      <th>2012</th>\n      <th>2013</th>\n      <th>2014</th>\n      <th>2015</th>\n      <th>2016</th>\n      <th>2017</th>\n      <th>2018</th>\n      <th>2019</th>\n      <th>2020</th>\n      <th>Unnamed: 65</th>\n    </tr>\n  </thead>\n  <tbody>\n    <tr>\n      <th>0</th>\n      <td>Aruba</td>\n      <td>ABW</td>\n      <td>GDP per capita (current US$)</td>\n      <td>NY.GDP.PCAP.CD</td>\n      <td>NaN</td>\n      <td>NaN</td>\n      <td>NaN</td>\n      <td>NaN</td>\n      <td>NaN</td>\n      <td>NaN</td>\n      <td>...</td>\n      <td>24712.493263</td>\n      <td>26441.619936</td>\n      <td>26893.011506</td>\n      <td>28396.908423</td>\n      <td>28452.170615</td>\n      <td>29350.805019</td>\n      <td>30253.279358</td>\n      <td>NaN</td>\n      <td>NaN</td>\n      <td>NaN</td>\n    </tr>\n    <tr>\n      <th>1</th>\n      <td>Africa Eastern and Southern</td>\n      <td>AFE</td>\n      <td>GDP per capita (current US$)</td>\n      <td>NY.GDP.PCAP.CD</td>\n      <td>147.612227</td>\n      <td>147.014904</td>\n      <td>156.189192</td>\n      <td>182.243917</td>\n      <td>162.347592</td>\n      <td>180.214908</td>\n      <td>...</td>\n      <td>1736.166560</td>\n      <td>1713.899299</td>\n      <td>1703.596298</td>\n      <td>1549.037940</td>\n      <td>1431.778723</td>\n      <td>1573.063386</td>\n      <td>1574.978648</td>\n      <td>1530.059177</td>\n      <td>1359.618224</td>\n      <td>NaN</td>\n    </tr>\n    <tr>\n      <th>2</th>\n      <td>Afghanistan</td>\n      <td>AFG</td>\n      <td>GDP per capita (current US$)</td>\n      <td>NY.GDP.PCAP.CD</td>\n      <td>59.773234</td>\n      <td>59.860900</td>\n      <td>58.458009</td>\n      <td>78.706429</td>\n      <td>82.095307</td>\n      <td>101.108325</td>\n      <td>...</td>\n      <td>638.845852</td>\n      <td>624.315455</td>\n      <td>614.223342</td>\n      <td>556.007221</td>\n      <td>512.012778</td>\n      <td>516.679862</td>\n      <td>485.668419</td>\n      <td>494.179350</td>\n      <td>516.747871</td>\n      <td>NaN</td>\n    </tr>\n    <tr>\n      <th>3</th>\n      <td>Africa Western and Central</td>\n      <td>AFW</td>\n      <td>GDP per capita (current US$)</td>\n      <td>NY.GDP.PCAP.CD</td>\n      <td>107.932233</td>\n      <td>113.081647</td>\n      <td>118.831107</td>\n      <td>123.442888</td>\n      <td>131.854402</td>\n      <td>138.526332</td>\n      <td>...</td>\n      <td>1965.118485</td>\n      <td>2157.481149</td>\n      <td>2212.853135</td>\n      <td>1894.310195</td>\n      <td>1673.835527</td>\n      <td>1613.473553</td>\n      <td>1704.139603</td>\n      <td>1777.918672</td>\n      <td>1710.073363</td>\n      <td>NaN</td>\n    </tr>\n    <tr>\n      <th>4</th>\n      <td>Angola</td>\n      <td>AGO</td>\n      <td>GDP per capita (current US$)</td>\n      <td>NY.GDP.PCAP.CD</td>\n      <td>NaN</td>\n      <td>NaN</td>\n      <td>NaN</td>\n      <td>NaN</td>\n      <td>NaN</td>\n      <td>NaN</td>\n      <td>...</td>\n      <td>5100.097027</td>\n      <td>5254.881126</td>\n      <td>5408.411700</td>\n      <td>4166.979833</td>\n      <td>3506.073128</td>\n      <td>4095.810057</td>\n      <td>3289.643995</td>\n      <td>2809.626088</td>\n      <td>1776.166868</td>\n      <td>NaN</td>\n    </tr>\n  </tbody>\n</table>\n<p>5 rows × 66 columns</p>\n</div>"
     },
     "execution_count": 16,
     "metadata": {},
     "output_type": "execute_result"
    }
   ],
   "source": [
    "gdp_per_capita.head()"
   ],
   "metadata": {
    "collapsed": false,
    "pycharm": {
     "name": "#%%\n"
    }
   }
  },
  {
   "cell_type": "code",
   "execution_count": 17,
   "outputs": [
    {
     "data": {
      "text/plain": "                  Country Name Country Code                    Indicator Name  \\\n0                        Aruba          ABW  GDP per capita growth (annual %)   \n1  Africa Eastern and Southern          AFE  GDP per capita growth (annual %)   \n2                  Afghanistan          AFG  GDP per capita growth (annual %)   \n3   Africa Western and Central          AFW  GDP per capita growth (annual %)   \n4                       Angola          AGO  GDP per capita growth (annual %)   \n\n      Indicator Code  1960      1961      1962      1963     1964      1965  \\\n0  NY.GDP.PCAP.KD.ZG   NaN       NaN       NaN       NaN      NaN       NaN   \n1  NY.GDP.PCAP.KD.ZG   NaN       NaN       NaN       NaN      NaN       NaN   \n2  NY.GDP.PCAP.KD.ZG   NaN       NaN       NaN       NaN      NaN       NaN   \n3  NY.GDP.PCAP.KD.ZG   NaN -0.232405  1.602299  4.990675  3.12468  1.783947   \n4  NY.GDP.PCAP.KD.ZG   NaN       NaN       NaN       NaN      NaN       NaN   \n\n   ...      2012      2013      2014      2015      2016      2017      2018  \\\n0  ... -1.865105  3.592223 -0.290534  5.129657  1.587869  1.519821       NaN   \n1  ... -0.769509  1.505305  1.203260  0.187860 -0.674533 -0.144710 -0.185406   \n2  ...  8.974865  1.974166 -0.665291 -1.622857 -0.541416  0.064764 -1.194900   \n3  ...  2.315175  3.260886  3.096784  0.007402 -2.533562 -0.390665  0.241531   \n4  ...  4.706519  1.291994  1.219881 -2.468737 -5.816188 -3.409983 -5.162112   \n\n       2019      2020  Unnamed: 65  \n0       NaN       NaN          NaN  \n1 -0.544414 -5.403820          NaN  \n2  1.535637 -4.575032          NaN  \n3  0.492953 -3.453976          NaN  \n4 -3.795608 -8.396241          NaN  \n\n[5 rows x 66 columns]",
      "text/html": "<div>\n<style scoped>\n    .dataframe tbody tr th:only-of-type {\n        vertical-align: middle;\n    }\n\n    .dataframe tbody tr th {\n        vertical-align: top;\n    }\n\n    .dataframe thead th {\n        text-align: right;\n    }\n</style>\n<table border=\"1\" class=\"dataframe\">\n  <thead>\n    <tr style=\"text-align: right;\">\n      <th></th>\n      <th>Country Name</th>\n      <th>Country Code</th>\n      <th>Indicator Name</th>\n      <th>Indicator Code</th>\n      <th>1960</th>\n      <th>1961</th>\n      <th>1962</th>\n      <th>1963</th>\n      <th>1964</th>\n      <th>1965</th>\n      <th>...</th>\n      <th>2012</th>\n      <th>2013</th>\n      <th>2014</th>\n      <th>2015</th>\n      <th>2016</th>\n      <th>2017</th>\n      <th>2018</th>\n      <th>2019</th>\n      <th>2020</th>\n      <th>Unnamed: 65</th>\n    </tr>\n  </thead>\n  <tbody>\n    <tr>\n      <th>0</th>\n      <td>Aruba</td>\n      <td>ABW</td>\n      <td>GDP per capita growth (annual %)</td>\n      <td>NY.GDP.PCAP.KD.ZG</td>\n      <td>NaN</td>\n      <td>NaN</td>\n      <td>NaN</td>\n      <td>NaN</td>\n      <td>NaN</td>\n      <td>NaN</td>\n      <td>...</td>\n      <td>-1.865105</td>\n      <td>3.592223</td>\n      <td>-0.290534</td>\n      <td>5.129657</td>\n      <td>1.587869</td>\n      <td>1.519821</td>\n      <td>NaN</td>\n      <td>NaN</td>\n      <td>NaN</td>\n      <td>NaN</td>\n    </tr>\n    <tr>\n      <th>1</th>\n      <td>Africa Eastern and Southern</td>\n      <td>AFE</td>\n      <td>GDP per capita growth (annual %)</td>\n      <td>NY.GDP.PCAP.KD.ZG</td>\n      <td>NaN</td>\n      <td>NaN</td>\n      <td>NaN</td>\n      <td>NaN</td>\n      <td>NaN</td>\n      <td>NaN</td>\n      <td>...</td>\n      <td>-0.769509</td>\n      <td>1.505305</td>\n      <td>1.203260</td>\n      <td>0.187860</td>\n      <td>-0.674533</td>\n      <td>-0.144710</td>\n      <td>-0.185406</td>\n      <td>-0.544414</td>\n      <td>-5.403820</td>\n      <td>NaN</td>\n    </tr>\n    <tr>\n      <th>2</th>\n      <td>Afghanistan</td>\n      <td>AFG</td>\n      <td>GDP per capita growth (annual %)</td>\n      <td>NY.GDP.PCAP.KD.ZG</td>\n      <td>NaN</td>\n      <td>NaN</td>\n      <td>NaN</td>\n      <td>NaN</td>\n      <td>NaN</td>\n      <td>NaN</td>\n      <td>...</td>\n      <td>8.974865</td>\n      <td>1.974166</td>\n      <td>-0.665291</td>\n      <td>-1.622857</td>\n      <td>-0.541416</td>\n      <td>0.064764</td>\n      <td>-1.194900</td>\n      <td>1.535637</td>\n      <td>-4.575032</td>\n      <td>NaN</td>\n    </tr>\n    <tr>\n      <th>3</th>\n      <td>Africa Western and Central</td>\n      <td>AFW</td>\n      <td>GDP per capita growth (annual %)</td>\n      <td>NY.GDP.PCAP.KD.ZG</td>\n      <td>NaN</td>\n      <td>-0.232405</td>\n      <td>1.602299</td>\n      <td>4.990675</td>\n      <td>3.12468</td>\n      <td>1.783947</td>\n      <td>...</td>\n      <td>2.315175</td>\n      <td>3.260886</td>\n      <td>3.096784</td>\n      <td>0.007402</td>\n      <td>-2.533562</td>\n      <td>-0.390665</td>\n      <td>0.241531</td>\n      <td>0.492953</td>\n      <td>-3.453976</td>\n      <td>NaN</td>\n    </tr>\n    <tr>\n      <th>4</th>\n      <td>Angola</td>\n      <td>AGO</td>\n      <td>GDP per capita growth (annual %)</td>\n      <td>NY.GDP.PCAP.KD.ZG</td>\n      <td>NaN</td>\n      <td>NaN</td>\n      <td>NaN</td>\n      <td>NaN</td>\n      <td>NaN</td>\n      <td>NaN</td>\n      <td>...</td>\n      <td>4.706519</td>\n      <td>1.291994</td>\n      <td>1.219881</td>\n      <td>-2.468737</td>\n      <td>-5.816188</td>\n      <td>-3.409983</td>\n      <td>-5.162112</td>\n      <td>-3.795608</td>\n      <td>-8.396241</td>\n      <td>NaN</td>\n    </tr>\n  </tbody>\n</table>\n<p>5 rows × 66 columns</p>\n</div>"
     },
     "execution_count": 17,
     "metadata": {},
     "output_type": "execute_result"
    }
   ],
   "source": [
    "gdp_per_capita_growth.head()"
   ],
   "metadata": {
    "collapsed": false,
    "pycharm": {
     "name": "#%%\n"
    }
   }
  },
  {
   "cell_type": "code",
   "execution_count": 11,
   "outputs": [
    {
     "data": {
      "text/plain": "   a  b   c\n0  1  1   1\n1  2  2   3\n2  3  2   5\n3  4  3   6\n4  5  6  10",
      "text/html": "<div>\n<style scoped>\n    .dataframe tbody tr th:only-of-type {\n        vertical-align: middle;\n    }\n\n    .dataframe tbody tr th {\n        vertical-align: top;\n    }\n\n    .dataframe thead th {\n        text-align: right;\n    }\n</style>\n<table border=\"1\" class=\"dataframe\">\n  <thead>\n    <tr style=\"text-align: right;\">\n      <th></th>\n      <th>a</th>\n      <th>b</th>\n      <th>c</th>\n    </tr>\n  </thead>\n  <tbody>\n    <tr>\n      <th>0</th>\n      <td>1</td>\n      <td>1</td>\n      <td>1</td>\n    </tr>\n    <tr>\n      <th>1</th>\n      <td>2</td>\n      <td>2</td>\n      <td>3</td>\n    </tr>\n    <tr>\n      <th>2</th>\n      <td>3</td>\n      <td>2</td>\n      <td>5</td>\n    </tr>\n    <tr>\n      <th>3</th>\n      <td>4</td>\n      <td>3</td>\n      <td>6</td>\n    </tr>\n    <tr>\n      <th>4</th>\n      <td>5</td>\n      <td>6</td>\n      <td>10</td>\n    </tr>\n  </tbody>\n</table>\n</div>"
     },
     "execution_count": 11,
     "metadata": {},
     "output_type": "execute_result"
    }
   ],
   "source": [
    "test_df = pd.DataFrame(test_dict)\n",
    "test_df"
   ],
   "metadata": {
    "collapsed": false,
    "pycharm": {
     "name": "#%%\n"
    }
   }
  },
  {
   "cell_type": "code",
   "execution_count": 12,
   "outputs": [
    {
     "data": {
      "text/plain": "          a         b   c\n0  0.000000  0.000000 NaN\n1  0.000000 -0.333333 NaN\n2  0.500000 -0.600000 NaN\n3  0.333333 -0.500000 NaN\n4 -0.166667 -0.400000 NaN",
      "text/html": "<div>\n<style scoped>\n    .dataframe tbody tr th:only-of-type {\n        vertical-align: middle;\n    }\n\n    .dataframe tbody tr th {\n        vertical-align: top;\n    }\n\n    .dataframe thead th {\n        text-align: right;\n    }\n</style>\n<table border=\"1\" class=\"dataframe\">\n  <thead>\n    <tr style=\"text-align: right;\">\n      <th></th>\n      <th>a</th>\n      <th>b</th>\n      <th>c</th>\n    </tr>\n  </thead>\n  <tbody>\n    <tr>\n      <th>0</th>\n      <td>0.000000</td>\n      <td>0.000000</td>\n      <td>NaN</td>\n    </tr>\n    <tr>\n      <th>1</th>\n      <td>0.000000</td>\n      <td>-0.333333</td>\n      <td>NaN</td>\n    </tr>\n    <tr>\n      <th>2</th>\n      <td>0.500000</td>\n      <td>-0.600000</td>\n      <td>NaN</td>\n    </tr>\n    <tr>\n      <th>3</th>\n      <td>0.333333</td>\n      <td>-0.500000</td>\n      <td>NaN</td>\n    </tr>\n    <tr>\n      <th>4</th>\n      <td>-0.166667</td>\n      <td>-0.400000</td>\n      <td>NaN</td>\n    </tr>\n  </tbody>\n</table>\n</div>"
     },
     "execution_count": 12,
     "metadata": {},
     "output_type": "execute_result"
    }
   ],
   "source": [
    "test_df.pct_change(axis='columns', periods=-1)"
   ],
   "metadata": {
    "collapsed": false,
    "pycharm": {
     "name": "#%%\n"
    }
   }
  }
 ],
 "metadata": {
  "kernelspec": {
   "display_name": "Python 3",
   "language": "python",
   "name": "python3"
  },
  "language_info": {
   "codemirror_mode": {
    "name": "ipython",
    "version": 2
   },
   "file_extension": ".py",
   "mimetype": "text/x-python",
   "name": "python",
   "nbconvert_exporter": "python",
   "pygments_lexer": "ipython2",
   "version": "2.7.6"
  }
 },
 "nbformat": 4,
 "nbformat_minor": 0
}